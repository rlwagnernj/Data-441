{
 "cells": [
  {
   "attachments": {},
   "cell_type": "markdown",
   "metadata": {},
   "source": [
    "## Cross Validated Robust LOWESS Model"
   ]
  },
  {
   "cell_type": "code",
   "execution_count": 148,
   "metadata": {},
   "outputs": [],
   "source": [
    "# Import Libraries\n",
    "\n",
    "import numpy as np\n",
    "import pandas as pd\n",
    "from scipy import linalg\n",
    "from math import ceil\n",
    "import matplotlib.pyplot as plt\n",
    "from sklearn.metrics import mean_squared_error as mse\n",
    "from sklearn.model_selection import train_test_split as tts, KFold"
   ]
  },
  {
   "cell_type": "code",
   "execution_count": 149,
   "metadata": {},
   "outputs": [],
   "source": [
    "# function that computes the Euclidean distance between all the observation in u and v\n",
    "def dist(u,v):\n",
    "  if len(v.shape)==1: # force v into column vector\n",
    "    v = v.reshape(1,-1)\n",
    "  d = np.array([np.sqrt(np.sum((u-v[i])**2,axis=1)) for i in range(len(v))]) # distance between all points in u and v\n",
    "  return d"
   ]
  },
  {
   "cell_type": "code",
   "execution_count": 150,
   "metadata": {},
   "outputs": [],
   "source": [
    "def lw_ag_md_kfold(x, y, f=2/3, ter=3, intercept=True, n_splits=5, shuffle=True, random_state=411):\n",
    "    ''' Computes a cross validated multivariate LOWESS model for x and y\n",
    "        RETURNS list of mean squared error for each fold\n",
    "    '''\n",
    "\n",
    "    kf = KFold(n_splits = n_splits, shuffle=shuffle, random_state=random_state) # set KFOLD\n",
    "    mse_list = [] # initialize MSE list\n",
    "\n",
    "    for idxtrain, idxtest in kf.split(x): # run for each of the splits\n",
    "        xtrain = x[idxtrain]\n",
    "        ytrain = y[idxtrain]\n",
    "        ytest = y[idxtest]\n",
    "        xtest = x[idxtest]\n",
    "\n",
    "        n = len(xtrain) # number of observations/data points\n",
    "        r = int(ceil(f * n)) # number of points that define local neighborhood\n",
    "        yest = np.zeros(n)\n",
    "\n",
    "        if len(ytrain.shape)==1: # here we make column vectors\n",
    "            ytrain = ytrain.reshape(-1,1)\n",
    "\n",
    "        if len(xtrain.shape)==1:\n",
    "            xtrain = xtrain.reshape(-1,1)\n",
    "\n",
    "        if intercept:\n",
    "            x1 = np.column_stack([np.ones((len(xtrain),1)),xtrain]) # add a column of 1s to the matrix if intercept is desired\n",
    "            x2 = np.column_stack([np.ones((len(xtest),1)),xtest])\n",
    "        else:\n",
    "            x1 = xtrain\n",
    "            x2 = xtest\n",
    "\n",
    "        h = [np.sort(np.sqrt(np.sum((xtrain-xtrain[i])**2,axis=1)))[r] for i in range(n)] # get distances from one point to all others \n",
    "                                                                                          # sort them, get the rth entry\n",
    "                                                                                          # this distance defines the max distance for said point\n",
    "\n",
    "        w = np.clip(dist(xtrain,xtrain) / h, 0.0, 1.0) # divide distances between all points by h (max distance) for the associated point\n",
    "                                                       # any value above 1 is above max distance, clipped to one\n",
    "                                                       # any value below 1 is within max distance, value stays\n",
    "                                                       # any 0 (only point to itself) stays 0\n",
    "\n",
    "        w = (1 - w ** 3) ** 3 # apply kernel to weight the points. This kernel can be changed if desired\n",
    "\n",
    "        delta = np.ones(n)\n",
    "\n",
    "        for iteration in range(iter):\n",
    "            for i in range(n):\n",
    "                W = np.diag(w[:,i])\n",
    "                b = np.transpose(x1).dot(W).dot(ytrain) # Create matricies\n",
    "                A = np.transpose(x1).dot(W).dot(x1) # X^T(W)(y) = X^T(X)(W)(Beta)\n",
    "                ##\n",
    "                A = A + 0.0001*np.eye(x1.shape[1]) # if we want L2 regularization\n",
    "                beta = linalg.solve(A, b) # solve for Beta\n",
    "                #beta, res, rnk, s = linalg.lstsq(A, b)\n",
    "                yest[i] = np.dot(x1[i],beta) # Apply function to get y estimates\n",
    "\n",
    "        residuals = ytrain - yest # calculate residuals \n",
    "        s = np.median(np.abs(residuals))\n",
    "        delta = np.clip(residuals / (6.0 * s), -1, 1) # get weights for nearest residuals/farthest. Defines \"robustness\"\n",
    "        delta = (1 - delta ** 2) ** 2\n",
    "\n",
    "    # Now that we have the final model, we can apply it to our test data and check the MSE\n",
    "    ytestest = np.dot(x2, beta) \n",
    "    mse_list.append(mse(ytest,ytestest))\n",
    "\n",
    "    print('The Cross-validated Mean Squared Error for Locally Weighted Regression is : '+str(np.mean(mse_list)))\n",
    "    return mse_list\n"
   ]
  },
  {
   "attachments": {},
   "cell_type": "markdown",
   "metadata": {},
   "source": [
    "## Test on real data..."
   ]
  },
  {
   "cell_type": "code",
   "execution_count": 151,
   "metadata": {},
   "outputs": [],
   "source": [
    "data = pd.read_csv('/Users/rebeccawagner/Documents/GitHub/Data 441/Data/cars.csv')\n",
    "\n",
    "x = data.loc[:,'CYL':'WGT'].values\n",
    "y = data['MPG'].values"
   ]
  },
  {
   "cell_type": "code",
   "execution_count": 152,
   "metadata": {},
   "outputs": [
    {
     "name": "stdout",
     "output_type": "stream",
     "text": [
      "The Cross-validated Mean Squared Error for Locally Weighted Regression is : 24.20828163247101\n"
     ]
    },
    {
     "data": {
      "text/plain": [
       "[24.20828163247101]"
      ]
     },
     "execution_count": 152,
     "metadata": {},
     "output_type": "execute_result"
    }
   ],
   "source": [
    "lw_ag_md_kfold(x, y, f=2/3, ter=3, intercept=True, n_splits=5, shuffle=True, random_state=411)"
   ]
  },
  {
   "cell_type": "code",
   "execution_count": null,
   "metadata": {},
   "outputs": [],
   "source": []
  }
 ],
 "metadata": {
  "kernelspec": {
   "display_name": "Python 3 (ipykernel)",
   "language": "python",
   "name": "python3"
  },
  "language_info": {
   "codemirror_mode": {
    "name": "ipython",
    "version": 3
   },
   "file_extension": ".py",
   "mimetype": "text/x-python",
   "name": "python",
   "nbconvert_exporter": "python",
   "pygments_lexer": "ipython3",
   "version": "3.8.12"
  },
  "vscode": {
   "interpreter": {
    "hash": "1ddf6c059735404cc5286a3c47036116bead5162cafb15765db74e6ca1757514"
   }
  }
 },
 "nbformat": 4,
 "nbformat_minor": 4
}
