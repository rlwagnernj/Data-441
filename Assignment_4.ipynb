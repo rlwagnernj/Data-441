{
 "cells": [
  {
   "cell_type": "code",
   "execution_count": 76,
   "metadata": {},
   "outputs": [],
   "source": [
    "# general imports\n",
    "import numpy as np\n",
    "import random\n",
    "import pandas as pd\n",
    "from math import ceil\n",
    "from scipy import linalg\n",
    "#import csaps as cs\n",
    "import statsmodels.api as sm\n",
    "from sklearn.linear_model import LinearRegression, Ridge, Lasso, ElasticNet\n",
    "from sklearn.metrics import mean_absolute_error, mean_squared_error as mse, r2_score\n",
    "from sklearn.preprocessing import StandardScaler as SS\n",
    "from sklearn.model_selection import GridSearchCV,train_test_split as tts\n",
    "from sklearn.datasets import make_spd_matrix\n",
    "from scipy.interpolate import interp1d\n",
    "import matplotlib.pyplot as plt\n",
    "from scipy.optimize import minimize\n",
    "from matplotlib import pyplot\n",
    "import pygam"
   ]
  },
  {
   "attachments": {},
   "cell_type": "markdown",
   "metadata": {},
   "source": [
    "In this project you will compare the performance of the Geberalized Additive Model with the Nadaraya-Watson regressor."
   ]
  },
  {
   "cell_type": "code",
   "execution_count": 2,
   "metadata": {},
   "outputs": [],
   "source": [
    "from sklearn.base import BaseEstimator, TransformerMixin\n",
    "from sklearn.pipeline import Pipeline\n",
    "\n",
    "def get_natural_cubic_spline_model(x, y, minval=None, maxval=None, n_knots=None, knots=None):\n",
    "    \"\"\"\n",
    "    Get a natural cubic spline model for the data.\n",
    "\n",
    "    For the knots, give (a) `knots` (as an array) or (b) minval, maxval and n_knots.\n",
    "\n",
    "    If the knots are not directly specified, the resulting knots are equally\n",
    "    space within the *interior* of (max, min).  That is, the endpoints are\n",
    "    *not* included as knots.\n",
    "\n",
    "    Parameters\n",
    "    ----------\n",
    "    x: np.array of float\n",
    "        The input data\n",
    "    y: np.array of float\n",
    "        The output data\n",
    "    minval: float \n",
    "        Minimum of interval containing the knots.\n",
    "    maxval: float \n",
    "        Maximum of the interval containing the knots.\n",
    "    n_knots: positive integer \n",
    "        The number of knots to create.\n",
    "    knots: array or list of floats \n",
    "        The knots.\n",
    "\n",
    "    Returns\n",
    "    --------\n",
    "    model: a model object\n",
    "        The returned model will have following method:\n",
    "        - predict(x):\n",
    "            x is a numpy array. This will return the predicted y-values.\n",
    "    \"\"\"\n",
    "\n",
    "    if knots:\n",
    "        spline = NaturalCubicSpline(knots=knots)\n",
    "    else:\n",
    "        spline = NaturalCubicSpline(max=maxval, min=minval, n_knots=n_knots)\n",
    "\n",
    "    p = Pipeline([\n",
    "        ('nat_cubic', spline),\n",
    "        ('regression', LinearRegression(fit_intercept=True))\n",
    "    ])\n",
    "\n",
    "    p.fit(x, y)\n",
    "\n",
    "    return p\n",
    "\n",
    "\n",
    "class AbstractSpline(BaseEstimator, TransformerMixin):\n",
    "    \"\"\"Base class for all spline basis expansions.\"\"\"\n",
    "\n",
    "    def __init__(self, max=None, min=None, n_knots=None, n_params=None, knots=None):\n",
    "        if knots is None:\n",
    "            if not n_knots:\n",
    "                n_knots = self._compute_n_knots(n_params)\n",
    "            knots = np.linspace(min, max, num=(n_knots + 2))[1:-1]\n",
    "            max, min = np.max(knots), np.min(knots)\n",
    "        self.knots = np.asarray(knots)\n",
    "\n",
    "    @property\n",
    "    def n_knots(self):\n",
    "        return len(self.knots)\n",
    "\n",
    "    def fit(self, *args, **kwargs):\n",
    "        return self\n",
    "\n",
    "\n",
    "class NaturalCubicSpline(AbstractSpline):\n",
    "    \"\"\"Apply a natural cubic basis expansion to an array.\n",
    "    The features created with this basis expansion can be used to fit a\n",
    "    piecewise cubic function under the constraint that the fitted curve is\n",
    "    linear *outside* the range of the knots..  The fitted curve is continuously\n",
    "    differentiable to the second order at all of the knots.\n",
    "    This transformer can be created in two ways:\n",
    "      - By specifying the maximum, minimum, and number of knots.\n",
    "      - By specifying the cutpoints directly.  \n",
    "\n",
    "    If the knots are not directly specified, the resulting knots are equally\n",
    "    space within the *interior* of (max, min).  That is, the endpoints are\n",
    "    *not* included as knots.\n",
    "    Parameters\n",
    "    ----------\n",
    "    min: float \n",
    "        Minimum of interval containing the knots.\n",
    "    max: float \n",
    "        Maximum of the interval containing the knots.\n",
    "    n_knots: positive integer \n",
    "        The number of knots to create.\n",
    "    knots: array or list of floats \n",
    "        The knots.\n",
    "    \"\"\"\n",
    "\n",
    "    def _compute_n_knots(self, n_params):\n",
    "        return n_params\n",
    "\n",
    "    @property\n",
    "    def n_params(self):\n",
    "        return self.n_knots - 1\n",
    "\n",
    "    def transform(self, X, **transform_params):\n",
    "        X_spl = self._transform_array(X)\n",
    "        if isinstance(X, pd.Series):\n",
    "            col_names = self._make_names(X)\n",
    "            X_spl = pd.DataFrame(X_spl, columns=col_names, index=X.index)\n",
    "        return X_spl\n",
    "\n",
    "    def _make_names(self, X):\n",
    "        first_name = \"{}_spline_linear\".format(X.name)\n",
    "        rest_names = [\"{}_spline_{}\".format(X.name, idx)\n",
    "                      for idx in range(self.n_knots - 2)]\n",
    "        return [first_name] + rest_names\n",
    "\n",
    "    def _transform_array(self, X, **transform_params):\n",
    "        X = X.squeeze()\n",
    "        try:\n",
    "            X_spl = np.zeros((X.shape[0], self.n_knots - 1))\n",
    "        except IndexError: # For arrays with only one element\n",
    "            X_spl = np.zeros((1, self.n_knots - 1))\n",
    "        X_spl[:, 0] = X.squeeze()\n",
    "\n",
    "        def d(knot_idx, x):\n",
    "            def ppart(t): return np.maximum(0, t)\n",
    "\n",
    "            def cube(t): return t*t*t\n",
    "            numerator = (cube(ppart(x - self.knots[knot_idx]))\n",
    "                         - cube(ppart(x - self.knots[self.n_knots - 1])))\n",
    "            denominator = self.knots[self.n_knots - 1] - self.knots[knot_idx]\n",
    "            return numerator / denominator\n",
    "\n",
    "        for i in range(0, self.n_knots - 2):\n",
    "            X_spl[:, i+1] = (d(i, X) - d(self.n_knots - 2, X)).squeeze()\n",
    "        return X_spl"
   ]
  },
  {
   "attachments": {},
   "cell_type": "markdown",
   "metadata": {},
   "source": [
    "You will generate 1-D (input) data and simulate a noised output of a rapidly oscillating function on the interval [0,20]; you will fit both regressors on a train set and measure their error on a test set."
   ]
  },
  {
   "cell_type": "code",
   "execution_count": 3,
   "metadata": {},
   "outputs": [],
   "source": [
    "# generate the data\n",
    "\n",
    "x = np.random.uniform(0,20,100)\n",
    "y = np.cos(x**2/20)\n",
    "y_noise = np.cos(x**2/20) + np.random.uniform(0,1,100)"
   ]
  },
  {
   "cell_type": "code",
   "execution_count": 5,
   "metadata": {},
   "outputs": [
    {
     "data": {
      "image/png": "[encoded data removed]",
      "text/plain": [
       "<Figure size 432x288 with 1 Axes>"
      ]
     },
     "metadata": {
      "needs_background": "light"
     },
     "output_type": "display_data"
    }
   ],
   "source": [
    "plt.scatter(x,y)\n",
    "plt.scatter(x,y_noise)\n",
    "\n",
    "plt.show()"
   ]
  },
  {
   "cell_type": "code",
   "execution_count": 6,
   "metadata": {},
   "outputs": [],
   "source": [
    "xtrain, xtest, ytrain, ytest = tts(x,y_noise,test_size=.3)"
   ]
  },
  {
   "cell_type": "code",
   "execution_count": 23,
   "metadata": {},
   "outputs": [
    {
     "data": {
      "image/png": "[encoded data removed]",
      "text/plain": [
       "<Figure size 432x288 with 1 Axes>"
      ]
     },
     "metadata": {
      "needs_background": "light"
     },
     "output_type": "display_data"
    }
   ],
   "source": [
    "model = get_natural_cubic_spline_model(xtrain, ytrain, minval=min(xtrain),  maxval=max(xtrain), n_knots=16)\n",
    "\n",
    "gam_y_est = model.predict(xtest)\n",
    "\n",
    "\n",
    "plt.scatter(x, y_noise, marker='.', label='originals')\n",
    "plt.scatter(xtest, gam_y_est, marker='.')\n",
    "plt.legend(); \n",
    "plt.show()\n"
   ]
  },
  {
   "cell_type": "code",
   "execution_count": 24,
   "metadata": {},
   "outputs": [
    {
     "data": {
      "text/plain": [
       "0.8290690676624839"
      ]
     },
     "execution_count": 24,
     "metadata": {},
     "output_type": "execute_result"
    }
   ],
   "source": [
    "r2_score(ytest,gam_y_est)"
   ]
  },
  {
   "cell_type": "code",
   "execution_count": 25,
   "metadata": {},
   "outputs": [],
   "source": [
    "from nadaraya_watson import NadarayaWatson, NadarayaWatsonCV"
   ]
  },
  {
   "cell_type": "code",
   "execution_count": 26,
   "metadata": {},
   "outputs": [],
   "source": [
    "param_grid=[dict(kernel=['polynomial'], degree=np.arange(1, 5)),dict(kernel=['rbf'], gamma=np.logspace(-5, 5, 100))]\n",
    "\n",
    "# use the sklearn gridsearch\n",
    "nw_gs = GridSearchCV(NadarayaWatson(), cv=10, param_grid=param_grid)\n",
    "nw_gs.fit(xtrain.reshape(-1,1),ytrain)\n",
    "nw_y_est = nw_gs.predict(xtest)"
   ]
  },
  {
   "cell_type": "code",
   "execution_count": 27,
   "metadata": {},
   "outputs": [
    {
     "data": {
      "image/png": "[encoded data removed]",
      "text/plain": [
       "<Figure size 432x288 with 1 Axes>"
      ]
     },
     "metadata": {
      "needs_background": "light"
     },
     "output_type": "display_data"
    }
   ],
   "source": [
    "plt.scatter(x, y_noise, marker='.', label='originals')\n",
    "plt.scatter(xtest, nw_y_est, marker='.')\n",
    "plt.legend(); \n",
    "plt.show()"
   ]
  },
  {
   "cell_type": "code",
   "execution_count": 28,
   "metadata": {},
   "outputs": [
    {
     "data": {
      "text/plain": [
       "0.7815173288347291"
      ]
     },
     "execution_count": 28,
     "metadata": {},
     "output_type": "execute_result"
    }
   ],
   "source": [
    "r2_score(ytest,nw_y_est)"
   ]
  },
  {
   "attachments": {},
   "cell_type": "markdown",
   "metadata": {},
   "source": [
    "Show a plot comparing the two reconstructions of the gound truth function.\n"
   ]
  },
  {
   "cell_type": "code",
   "execution_count": 46,
   "metadata": {},
   "outputs": [],
   "source": [
    "gam = pd.DataFrame({'x':xtest, 'y':gam_y_est}).sort_values(by='x')\n",
    "\n",
    "def f(i):\n",
    "   return np.cos(i**2/20)\n",
    "\n",
    "i = np.arange(0,20,.1)\n",
    "\n",
    "x1, y1 = zip(*sorted(zip(xtest, nw_y_est)))"
   ]
  },
  {
   "cell_type": "code",
   "execution_count": 59,
   "metadata": {},
   "outputs": [
    {
     "data": {
      "image/png": "[encoded data removed]",
      "text/plain": [
       "<Figure size 720x360 with 1 Axes>"
      ]
     },
     "metadata": {
      "needs_background": "light"
     },
     "output_type": "display_data"
    }
   ],
   "source": [
    "plt.figure(figsize=(10,5))\n",
    "plt.scatter(x,y_noise,marker='.', label='noisy points')\n",
    "plt.plot(i,f(i),label=\"ground truth function\")\n",
    "plt.plot(gam['x'],gam['y'], label='GAM')\n",
    "plt.plot(x1,y1,label='NW')\n",
    "\n",
    "\n",
    "plt.legend(loc=\"lower left\")\n",
    "plt.show()"
   ]
  },
  {
   "attachments": {},
   "cell_type": "markdown",
   "metadata": {},
   "source": [
    "You will compare the 10-fold crossvalidated root mean square error of the two regressors on the \"concrete.csv\" data set"
   ]
  },
  {
   "cell_type": "code",
   "execution_count": 93,
   "metadata": {},
   "outputs": [],
   "source": [
    "data = pd.read_csv('/Users/rebeccawagner/Documents/GitHub/Data 441/Data/concrete.csv')"
   ]
  },
  {
   "cell_type": "code",
   "execution_count": 94,
   "metadata": {},
   "outputs": [
    {
     "data": {
      "text/html": [
       "<div>\n",
       "<style scoped>\n",
       "    .dataframe tbody tr th:only-of-type {\n",
       "        vertical-align: middle;\n",
       "    }\n",
       "\n",
       "    .dataframe tbody tr th {\n",
       "        vertical-align: top;\n",
       "    }\n",
       "\n",
       "    .dataframe thead th {\n",
       "        text-align: right;\n",
       "    }\n",
       "</style>\n",
       "<table border=\"1\" class=\"dataframe\">\n",
       "  <thead>\n",
       "    <tr style=\"text-align: right;\">\n",
       "      <th></th>\n",
       "      <th>cement</th>\n",
       "      <th>slag</th>\n",
       "      <th>ash</th>\n",
       "      <th>water</th>\n",
       "      <th>superplastic</th>\n",
       "      <th>coarseagg</th>\n",
       "      <th>fineagg</th>\n",
       "      <th>age</th>\n",
       "      <th>strength</th>\n",
       "    </tr>\n",
       "  </thead>\n",
       "  <tbody>\n",
       "    <tr>\n",
       "      <th>0</th>\n",
       "      <td>540.0</td>\n",
       "      <td>0.0</td>\n",
       "      <td>0.0</td>\n",
       "      <td>162.0</td>\n",
       "      <td>2.5</td>\n",
       "      <td>1040.0</td>\n",
       "      <td>676.0</td>\n",
       "      <td>28</td>\n",
       "      <td>79.99</td>\n",
       "    </tr>\n",
       "    <tr>\n",
       "      <th>1</th>\n",
       "      <td>540.0</td>\n",
       "      <td>0.0</td>\n",
       "      <td>0.0</td>\n",
       "      <td>162.0</td>\n",
       "      <td>2.5</td>\n",
       "      <td>1055.0</td>\n",
       "      <td>676.0</td>\n",
       "      <td>28</td>\n",
       "      <td>61.89</td>\n",
       "    </tr>\n",
       "    <tr>\n",
       "      <th>2</th>\n",
       "      <td>332.5</td>\n",
       "      <td>142.5</td>\n",
       "      <td>0.0</td>\n",
       "      <td>228.0</td>\n",
       "      <td>0.0</td>\n",
       "      <td>932.0</td>\n",
       "      <td>594.0</td>\n",
       "      <td>270</td>\n",
       "      <td>40.27</td>\n",
       "    </tr>\n",
       "    <tr>\n",
       "      <th>3</th>\n",
       "      <td>332.5</td>\n",
       "      <td>142.5</td>\n",
       "      <td>0.0</td>\n",
       "      <td>228.0</td>\n",
       "      <td>0.0</td>\n",
       "      <td>932.0</td>\n",
       "      <td>594.0</td>\n",
       "      <td>365</td>\n",
       "      <td>41.05</td>\n",
       "    </tr>\n",
       "    <tr>\n",
       "      <th>4</th>\n",
       "      <td>198.6</td>\n",
       "      <td>132.4</td>\n",
       "      <td>0.0</td>\n",
       "      <td>192.0</td>\n",
       "      <td>0.0</td>\n",
       "      <td>978.4</td>\n",
       "      <td>825.5</td>\n",
       "      <td>360</td>\n",
       "      <td>44.30</td>\n",
       "    </tr>\n",
       "  </tbody>\n",
       "</table>\n",
       "</div>"
      ],
      "text/plain": [
       "   cement   slag  ash  water  superplastic  coarseagg  fineagg  age  strength\n",
       "0   540.0    0.0  0.0  162.0           2.5     1040.0    676.0   28     79.99\n",
       "1   540.0    0.0  0.0  162.0           2.5     1055.0    676.0   28     61.89\n",
       "2   332.5  142.5  0.0  228.0           0.0      932.0    594.0  270     40.27\n",
       "3   332.5  142.5  0.0  228.0           0.0      932.0    594.0  365     41.05\n",
       "4   198.6  132.4  0.0  192.0           0.0      978.4    825.5  360     44.30"
      ]
     },
     "execution_count": 94,
     "metadata": {},
     "output_type": "execute_result"
    }
   ],
   "source": [
    "data.head()"
   ]
  },
  {
   "cell_type": "code",
   "execution_count": 109,
   "metadata": {},
   "outputs": [],
   "source": [
    "y = data['strength']\n",
    "x = data[['cement','slag','ash','water','superplastic','coarseagg','fineagg','age']].to_numpy()"
   ]
  },
  {
   "cell_type": "code",
   "execution_count": 85,
   "metadata": {},
   "outputs": [],
   "source": [
    "from pygam import LinearGAM\n",
    "from sklearn.model_selection import KFold "
   ]
  },
  {
   "cell_type": "code",
   "execution_count": 124,
   "metadata": {},
   "outputs": [
    {
     "name": "stderr",
     "output_type": "stream",
     "text": [
      "  0% (0 of 11) |                         | Elapsed Time: 0:00:00 ETA:  --:--:--\n",
      "  9% (1 of 11) |##                       | Elapsed Time: 0:00:00 ETA:   0:00:01\n",
      " 18% (2 of 11) |####                     | Elapsed Time: 0:00:00 ETA:   0:00:01\n",
      " 27% (3 of 11) |######                   | Elapsed Time: 0:00:00 ETA:   0:00:00\n",
      " 36% (4 of 11) |#########                | Elapsed Time: 0:00:00 ETA:   0:00:00\n",
      " 45% (5 of 11) |###########              | Elapsed Time: 0:00:00 ETA:   0:00:00\n",
      " 54% (6 of 11) |#############            | Elapsed Time: 0:00:00 ETA:   0:00:00\n",
      " 63% (7 of 11) |###############          | Elapsed Time: 0:00:00 ETA:   0:00:00\n",
      " 72% (8 of 11) |##################       | Elapsed Time: 0:00:00 ETA:   0:00:00\n",
      " 81% (9 of 11) |####################     | Elapsed Time: 0:00:00 ETA:   0:00:00\n",
      " 90% (10 of 11) |#####################   | Elapsed Time: 0:00:00 ETA:   0:00:00\n",
      "100% (11 of 11) |########################| Elapsed Time: 0:00:01 Time:  0:00:01\n",
      "  0% (0 of 11) |                         | Elapsed Time: 0:00:00 ETA:  --:--:--\n",
      "  9% (1 of 11) |##                       | Elapsed Time: 0:00:00 ETA:  00:00:00\n",
      " 18% (2 of 11) |####                     | Elapsed Time: 0:00:00 ETA:   0:00:00\n",
      " 27% (3 of 11) |######                   | Elapsed Time: 0:00:00 ETA:   0:00:00\n",
      " 36% (4 of 11) |#########                | Elapsed Time: 0:00:00 ETA:   0:00:00\n",
      " 45% (5 of 11) |###########              | Elapsed Time: 0:00:00 ETA:   0:00:00\n",
      " 54% (6 of 11) |#############            | Elapsed Time: 0:00:00 ETA:   0:00:00\n",
      " 63% (7 of 11) |###############          | Elapsed Time: 0:00:00 ETA:   0:00:00\n",
      " 72% (8 of 11) |##################       | Elapsed Time: 0:00:00 ETA:   0:00:00\n",
      " 81% (9 of 11) |####################     | Elapsed Time: 0:00:00 ETA:   0:00:00\n",
      " 90% (10 of 11) |#####################   | Elapsed Time: 0:00:00 ETA:   0:00:00\n",
      "100% (11 of 11) |########################| Elapsed Time: 0:00:01 Time:  0:00:01\n",
      "  0% (0 of 11) |                         | Elapsed Time: 0:00:00 ETA:  --:--:--\n",
      "  9% (1 of 11) |##                       | Elapsed Time: 0:00:00 ETA:  00:00:00\n",
      " 18% (2 of 11) |####                     | Elapsed Time: 0:00:00 ETA:   0:00:00\n",
      " 27% (3 of 11) |######                   | Elapsed Time: 0:00:00 ETA:   0:00:00\n",
      " 36% (4 of 11) |#########                | Elapsed Time: 0:00:00 ETA:   0:00:00\n",
      " 45% (5 of 11) |###########              | Elapsed Time: 0:00:00 ETA:   0:00:00\n",
      " 54% (6 of 11) |#############            | Elapsed Time: 0:00:00 ETA:   0:00:00\n",
      " 63% (7 of 11) |###############          | Elapsed Time: 0:00:00 ETA:   0:00:00\n",
      " 72% (8 of 11) |##################       | Elapsed Time: 0:00:00 ETA:   0:00:00\n",
      " 81% (9 of 11) |####################     | Elapsed Time: 0:00:00 ETA:   0:00:00\n",
      " 90% (10 of 11) |#####################   | Elapsed Time: 0:00:00 ETA:   0:00:00\n",
      "100% (11 of 11) |########################| Elapsed Time: 0:00:00 Time:  0:00:00\n",
      "  0% (0 of 11) |                         | Elapsed Time: 0:00:00 ETA:  --:--:--\n",
      "  9% (1 of 11) |##                       | Elapsed Time: 0:00:00 ETA:  00:00:00\n",
      " 18% (2 of 11) |####                     | Elapsed Time: 0:00:00 ETA:   0:00:00\n",
      " 27% (3 of 11) |######                   | Elapsed Time: 0:00:00 ETA:   0:00:00\n",
      " 36% (4 of 11) |#########                | Elapsed Time: 0:00:00 ETA:   0:00:00\n",
      " 45% (5 of 11) |###########              | Elapsed Time: 0:00:00 ETA:   0:00:00\n",
      " 54% (6 of 11) |#############            | Elapsed Time: 0:00:00 ETA:   0:00:00\n",
      " 63% (7 of 11) |###############          | Elapsed Time: 0:00:00 ETA:   0:00:00\n",
      " 72% (8 of 11) |##################       | Elapsed Time: 0:00:00 ETA:   0:00:00\n",
      " 81% (9 of 11) |####################     | Elapsed Time: 0:00:00 ETA:   0:00:00\n",
      " 90% (10 of 11) |#####################   | Elapsed Time: 0:00:00 ETA:   0:00:00\n",
      "100% (11 of 11) |########################| Elapsed Time: 0:00:00 Time:  0:00:00\n",
      "  0% (0 of 11) |                         | Elapsed Time: 0:00:00 ETA:  --:--:--\n",
      "  9% (1 of 11) |##                       | Elapsed Time: 0:00:00 ETA:  00:00:00\n",
      " 18% (2 of 11) |####                     | Elapsed Time: 0:00:00 ETA:   0:00:00\n",
      " 27% (3 of 11) |######                   | Elapsed Time: 0:00:00 ETA:   0:00:00\n",
      " 36% (4 of 11) |#########                | Elapsed Time: 0:00:00 ETA:   0:00:00\n",
      " 45% (5 of 11) |###########              | Elapsed Time: 0:00:00 ETA:   0:00:00\n",
      " 54% (6 of 11) |#############            | Elapsed Time: 0:00:00 ETA:   0:00:00\n",
      " 63% (7 of 11) |###############          | Elapsed Time: 0:00:00 ETA:   0:00:00\n",
      " 72% (8 of 11) |##################       | Elapsed Time: 0:00:00 ETA:   0:00:00\n",
      " 81% (9 of 11) |####################     | Elapsed Time: 0:00:00 ETA:   0:00:00\n",
      " 90% (10 of 11) |#####################   | Elapsed Time: 0:00:00 ETA:   0:00:00\n",
      "100% (11 of 11) |########################| Elapsed Time: 0:00:00 Time:  0:00:00\n",
      "  0% (0 of 11) |                         | Elapsed Time: 0:00:00 ETA:  --:--:--\n",
      "  9% (1 of 11) |##                       | Elapsed Time: 0:00:00 ETA:  00:00:00\n",
      " 18% (2 of 11) |####                     | Elapsed Time: 0:00:00 ETA:   0:00:00\n",
      " 27% (3 of 11) |######                   | Elapsed Time: 0:00:00 ETA:   0:00:00\n",
      " 36% (4 of 11) |#########                | Elapsed Time: 0:00:00 ETA:   0:00:00\n",
      " 45% (5 of 11) |###########              | Elapsed Time: 0:00:00 ETA:   0:00:00\n",
      " 54% (6 of 11) |#############            | Elapsed Time: 0:00:00 ETA:   0:00:00\n",
      " 63% (7 of 11) |###############          | Elapsed Time: 0:00:00 ETA:   0:00:00\n",
      " 72% (8 of 11) |##################       | Elapsed Time: 0:00:00 ETA:   0:00:00\n",
      " 81% (9 of 11) |####################     | Elapsed Time: 0:00:00 ETA:   0:00:00\n",
      " 90% (10 of 11) |#####################   | Elapsed Time: 0:00:00 ETA:   0:00:00\n",
      "100% (11 of 11) |########################| Elapsed Time: 0:00:01 Time:  0:00:01\n",
      "  0% (0 of 11) |                         | Elapsed Time: 0:00:00 ETA:  --:--:--\n",
      "  9% (1 of 11) |##                       | Elapsed Time: 0:00:00 ETA:  00:00:00\n",
      " 18% (2 of 11) |####                     | Elapsed Time: 0:00:00 ETA:   0:00:00\n",
      " 27% (3 of 11) |######                   | Elapsed Time: 0:00:00 ETA:   0:00:00\n",
      " 36% (4 of 11) |#########                | Elapsed Time: 0:00:00 ETA:   0:00:00\n",
      " 45% (5 of 11) |###########              | Elapsed Time: 0:00:00 ETA:   0:00:00\n",
      " 54% (6 of 11) |#############            | Elapsed Time: 0:00:00 ETA:   0:00:00\n",
      " 63% (7 of 11) |###############          | Elapsed Time: 0:00:00 ETA:   0:00:00\n",
      " 72% (8 of 11) |##################       | Elapsed Time: 0:00:00 ETA:   0:00:00\n",
      " 81% (9 of 11) |####################     | Elapsed Time: 0:00:00 ETA:   0:00:00\n",
      " 90% (10 of 11) |#####################   | Elapsed Time: 0:00:00 ETA:   0:00:00\n",
      "100% (11 of 11) |########################| Elapsed Time: 0:00:00 Time:  0:00:00\n",
      "  0% (0 of 11) |                         | Elapsed Time: 0:00:00 ETA:  --:--:--\n",
      "  9% (1 of 11) |##                       | Elapsed Time: 0:00:00 ETA:   0:00:01\n",
      " 18% (2 of 11) |####                     | Elapsed Time: 0:00:00 ETA:   0:00:01\n",
      " 27% (3 of 11) |######                   | Elapsed Time: 0:00:00 ETA:   0:00:00\n",
      " 36% (4 of 11) |#########                | Elapsed Time: 0:00:00 ETA:   0:00:00\n",
      " 45% (5 of 11) |###########              | Elapsed Time: 0:00:00 ETA:   0:00:00\n",
      " 54% (6 of 11) |#############            | Elapsed Time: 0:00:00 ETA:   0:00:00\n",
      " 63% (7 of 11) |###############          | Elapsed Time: 0:00:00 ETA:   0:00:00\n",
      " 72% (8 of 11) |##################       | Elapsed Time: 0:00:00 ETA:   0:00:00\n",
      " 81% (9 of 11) |####################     | Elapsed Time: 0:00:00 ETA:   0:00:00\n",
      " 90% (10 of 11) |#####################   | Elapsed Time: 0:00:00 ETA:   0:00:00\n",
      "100% (11 of 11) |########################| Elapsed Time: 0:00:00 Time:  0:00:00\n",
      "  0% (0 of 11) |                         | Elapsed Time: 0:00:00 ETA:  --:--:--\n",
      "  9% (1 of 11) |##                       | Elapsed Time: 0:00:00 ETA:   0:00:01\n",
      " 18% (2 of 11) |####                     | Elapsed Time: 0:00:00 ETA:   0:00:01\n",
      " 27% (3 of 11) |######                   | Elapsed Time: 0:00:00 ETA:   0:00:01\n",
      " 36% (4 of 11) |#########                | Elapsed Time: 0:00:00 ETA:   0:00:00\n",
      " 45% (5 of 11) |###########              | Elapsed Time: 0:00:00 ETA:   0:00:00\n",
      " 54% (6 of 11) |#############            | Elapsed Time: 0:00:00 ETA:   0:00:00\n",
      " 63% (7 of 11) |###############          | Elapsed Time: 0:00:00 ETA:   0:00:00\n",
      " 72% (8 of 11) |##################       | Elapsed Time: 0:00:00 ETA:   0:00:00\n",
      " 81% (9 of 11) |####################     | Elapsed Time: 0:00:00 ETA:   0:00:00\n",
      " 90% (10 of 11) |#####################   | Elapsed Time: 0:00:00 ETA:   0:00:00\n",
      "100% (11 of 11) |########################| Elapsed Time: 0:00:01 Time:  0:00:01\n",
      "  0% (0 of 11) |                         | Elapsed Time: 0:00:00 ETA:  --:--:--\n",
      "  9% (1 of 11) |##                       | Elapsed Time: 0:00:00 ETA:  00:00:00\n",
      " 18% (2 of 11) |####                     | Elapsed Time: 0:00:00 ETA:   0:00:00\n",
      " 27% (3 of 11) |######                   | Elapsed Time: 0:00:00 ETA:   0:00:00\n",
      " 36% (4 of 11) |#########                | Elapsed Time: 0:00:00 ETA:   0:00:00\n",
      " 45% (5 of 11) |###########              | Elapsed Time: 0:00:00 ETA:   0:00:00\n",
      " 54% (6 of 11) |#############            | Elapsed Time: 0:00:00 ETA:   0:00:00\n",
      " 63% (7 of 11) |###############          | Elapsed Time: 0:00:00 ETA:   0:00:00\n",
      " 72% (8 of 11) |##################       | Elapsed Time: 0:00:00 ETA:   0:00:00\n",
      " 81% (9 of 11) |####################     | Elapsed Time: 0:00:00 ETA:   0:00:00\n",
      " 90% (10 of 11) |#####################   | Elapsed Time: 0:00:00 ETA:   0:00:00\n",
      "100% (11 of 11) |########################| Elapsed Time: 0:00:00 Time:  0:00:00\n"
     ]
    }
   ],
   "source": [
    "from sklearn.model_selection import KFold \n",
    "\n",
    "kf = KFold(n_splits=10)\n",
    "\n",
    "mse_list = []\n",
    "\n",
    "for idxtrain, idxtest in kf.split(x):\n",
    "\n",
    "    xtrain = x[idxtrain]\n",
    "    ytrain = y[idxtrain]\n",
    "    ytest = y[idxtest]\n",
    "    xtest = x[idxtest]\n",
    "\n",
    "    ss =SS()\n",
    "    xtrain = ss.fit_transform(xtrain)\n",
    "    xtest = ss.transform(xtest)\n",
    "\n",
    "    gam = LinearGAM(n_splines=17).gridsearch(xtrain, ytrain,objective='GCV')\n",
    "\n",
    "    gam_y_est = gam.predict(xtest)\n",
    "\n",
    "    mse_list.append(np.sqrt(mse(ytest,gam_y_est)))\n",
    "\n",
    "    "
   ]
  },
  {
   "cell_type": "code",
   "execution_count": 125,
   "metadata": {},
   "outputs": [
    {
     "data": {
      "text/plain": [
       "6.327662705170008"
      ]
     },
     "execution_count": 125,
     "metadata": {},
     "output_type": "execute_result"
    }
   ],
   "source": [
    "np.mean(mse_list)"
   ]
  },
  {
   "cell_type": "code",
   "execution_count": 120,
   "metadata": {},
   "outputs": [],
   "source": [
    "from sklearn.model_selection import KFold \n",
    "\n",
    "kf = KFold(n_splits=10)\n",
    "\n",
    "mse_list = []\n",
    "\n",
    "for idxtrain, idxtest in kf.split(x):\n",
    "\n",
    "    xtrain = x[idxtrain]\n",
    "    ytrain = y[idxtrain]\n",
    "    ytest = y[idxtest]\n",
    "    xtest = x[idxtest]\n",
    "\n",
    "    ss =SS()\n",
    "    xtrain = ss.fit_transform(xtrain)\n",
    "    xtest = ss.transform(xtest)\n",
    "    \n",
    "    param_grid=[dict(kernel=['polynomial'], degree=np.arange(1, 5)),dict(kernel=['rbf'], gamma=np.logspace(-5, 5, 100))]\n",
    "\n",
    "    # use the sklearn gridsearch\n",
    "    nw_gs = GridSearchCV(NadarayaWatson(), cv=10, param_grid=param_grid)\n",
    "    nw_gs.fit(xtrain,ytrain)\n",
    "    nw_y_est = nw_gs.predict(xtest)\n",
    "\n",
    "    mse_list.append(np.sqrt(mse(ytest,nw_y_est)))"
   ]
  },
  {
   "cell_type": "code",
   "execution_count": 123,
   "metadata": {},
   "outputs": [
    {
     "data": {
      "text/plain": [
       "12.056083657272156"
      ]
     },
     "execution_count": 123,
     "metadata": {},
     "output_type": "execute_result"
    }
   ],
   "source": [
    "np.mean(mse_list)"
   ]
  },
  {
   "cell_type": "code",
   "execution_count": null,
   "metadata": {},
   "outputs": [],
   "source": []
  }
 ],
 "metadata": {
  "kernelspec": {
   "display_name": "base",
   "language": "python",
   "name": "python3"
  },
  "language_info": {
   "codemirror_mode": {
    "name": "ipython",
    "version": 3
   },
   "file_extension": ".py",
   "mimetype": "text/x-python",
   "name": "python",
   "nbconvert_exporter": "python",
   "pygments_lexer": "ipython3",
   "version": "3.8.5"
  },
  "orig_nbformat": 4
 },
 "nbformat": 4,
 "nbformat_minor": 2
}
